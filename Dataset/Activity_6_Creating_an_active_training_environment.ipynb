{
 "cells": [
  {
   "cell_type": "markdown",
   "metadata": {},
   "source": [
    "# Activity 6: Creating an active training environment\n",
    "In this activity we learn to evaluate our LSTM model and to actively train it with new data."
   ]
  },
  {
   "cell_type": "markdown",
   "metadata": {},
   "source": [
    "## Load Data"
   ]
  },
  {
   "cell_type": "code",
   "execution_count": 2,
   "metadata": {},
   "outputs": [
    {
     "data": {
      "application/javascript": [
       "IPython.notebook.set_autosave_interval(5000)"
      ]
     },
     "metadata": {},
     "output_type": "display_data"
    },
    {
     "name": "stdout",
     "output_type": "stream",
     "text": [
      "Autosaving every 5 seconds\n"
     ]
    }
   ],
   "source": [
    "%autosave 5\n",
    "\n",
    "#  Import necessary libraries\n",
    "import numpy as np\n",
    "import pandas as pd\n",
    "import seaborn as sb\n",
    "import matplotlib.pyplot as plt\n",
    "%matplotlib inline\n",
    "plt.style.use('seaborn-white')\n",
    "\n",
    "from keras.models import load_model\n",
    "from keras.callbacks import TensorBoard\n",
    "from datetime import datetime, timedelta\n",
    "\n",
    "\n",
    "\n",
    "np.random.seed(0)"
   ]
  },
  {
   "cell_type": "code",
   "execution_count": 4,
   "metadata": {},
   "outputs": [],
   "source": [
    "#  Load datasets\n",
    "train = pd.read_csv('train_dataset.csv')\n",
    "test = pd.read_csv('test_dataset.csv')"
   ]
  },
  {
   "cell_type": "code",
   "execution_count": 7,
   "metadata": {},
   "outputs": [],
   "source": [
    "def create_groups(data, group_size=7):\n",
    "    \"\"\"Create distinct groups from a continuous series.\n",
    "\n",
    "    Parameters\n",
    "    ----------\n",
    "    data: np.array\n",
    "        Series of continious observations.\n",
    "\n",
    "    group_size: int, default 7\n",
    "        Determines how large the groups are. That is,\n",
    "        how many observations each group contains.\n",
    "\n",
    "    Returns\n",
    "    -------\n",
    "    A Numpy array object.\n",
    "    \"\"\"\n",
    "    samples = list()\n",
    "    for i in range(0, len(data), group_size):\n",
    "        sample = list(data[i:i + group_size])\n",
    "        if len(sample) == group_size:\n",
    "            samples.append(np.array(sample).reshape(1, group_size).tolist())\n",
    "\n",
    "    a = np.array(samples)\n",
    "    return a.reshape(1, a.shape[0], group_size)\n",
    "\n"
   ]
  },
  {
   "cell_type": "code",
   "execution_count": 8,
   "metadata": {},
   "outputs": [],
   "source": [
    "#  Group data into groups containing seven observations\n",
    "train_data = create_groups(\n",
    "    train['close_point_relative_normalization'][2:].values)\n",
    "\n",
    "test_data = create_groups(\n",
    "    test['close_point_relative_normalization'][:-3].values)"
   ]
  },
  {
   "cell_type": "code",
   "execution_count": 9,
   "metadata": {},
   "outputs": [],
   "source": [
    "def split_lstm_input(groups):\n",
    "    \"\"\"Split groups in a format expected by the LSTM layer.\n",
    "\n",
    "    Parameters\n",
    "    ----------\n",
    "    groups: np.array\n",
    "        Numpy array with the organized sequences.\n",
    "\n",
    "    Returns\n",
    "    -------\n",
    "    X, Y: np.array\n",
    "        Numpy arrays with the shapes required by\n",
    "        the LSTM layer. X with (1, a - 1, b)\n",
    "        and Y with (1, b). Where a is the total\n",
    "        number of groups in `group` and b the\n",
    "        number of observations per group.\n",
    "    \"\"\"\n",
    "    X = groups[0:, :-1].reshape(1, groups.shape[1] - 1, groups.shape[2])\n",
    "    Y = groups[0:, -1:][0]\n",
    "\n",
    "    return X, Y\n",
    "\n"
   ]
  },
  {
   "cell_type": "code",
   "execution_count": 10,
   "metadata": {},
   "outputs": [],
   "source": [
    "#  Reshape the data in the format expected by the LSTM layer\n",
    "X_train, Y_train = split_lstm_input(train_data)"
   ]
  },
  {
   "cell_type": "code",
   "execution_count": null,
   "metadata": {},
   "outputs": [],
   "source": []
  },
  {
   "cell_type": "markdown",
   "metadata": {},
   "source": [
    "## Re-train Model with TensorBoard"
   ]
  },
  {
   "cell_type": "code",
   "execution_count": 11,
   "metadata": {
    "eid": "59584a"
   },
   "outputs": [],
   "source": [
    "def train_model(model, X, Y, epochs, version, run_number):\n",
    "    \"\"\"Training a model with TensorBoard callback.\n",
    "\n",
    "    This function names each run of the model\n",
    "    using the TensorBoard naming conventions.\n",
    "\n",
    "    Parameters\n",
    "    ----------\n",
    "    model: Keras model instance\n",
    "        Compiled Keras model.\n",
    "\n",
    "    X, Y: np.array\n",
    "        Series of observations to be used in\n",
    "        the training process.\n",
    "\n",
    "    epochs: int\n",
    "        The number of epochs to train the\n",
    "        model for.\n",
    "\n",
    "    version: int\n",
    "        Version of the model to run.\n",
    "\n",
    "    run_number: int\n",
    "        The number of the run. Used in case\n",
    "        the same model version is run again.\n",
    "    \"\"\"\n",
    "    model_name = f'bitcoin_lstm_v{version}_run_{run_number}'\n",
    "    tensorboard = TensorBoard(log_dir=f'./logs/{model_name}')\n",
    "\n",
    "    #  TASK:\n",
    "    #  Modify the `fit` method to include a TensorBoard callback.\n",
    "    #\n",
    "    model_history = model.fit(\n",
    "        x=X, y=Y,\n",
    "        batch_size=1, epochs=epochs,\n",
    "        shuffle=False)\n",
    "\n",
    "    return model_history"
   ]
  },
  {
   "cell_type": "code",
   "execution_count": 12,
   "metadata": {},
   "outputs": [],
   "source": [
    "#  Load previously trained network\n",
    "model = load_model('bitcoin_lstm_v0.h5')"
   ]
  },
  {
   "cell_type": "code",
   "execution_count": 13,
   "metadata": {},
   "outputs": [
    {
     "name": "stdout",
     "output_type": "stream",
     "text": [
      "Epoch 1/100\n",
      "1/1 [==============================] - 0s 7ms/step - loss: 0.0027\n",
      "Epoch 2/100\n",
      "1/1 [==============================] - 0s 4ms/step - loss: 0.0023\n",
      "Epoch 3/100\n",
      "1/1 [==============================] - 0s 5ms/step - loss: 0.0020\n",
      "Epoch 4/100\n",
      "1/1 [==============================] - 0s 3ms/step - loss: 0.0018\n",
      "Epoch 5/100\n",
      "1/1 [==============================] - 0s 3ms/step - loss: 0.0016\n",
      "Epoch 6/100\n",
      "1/1 [==============================] - 0s 4ms/step - loss: 0.0015\n",
      "Epoch 7/100\n",
      "1/1 [==============================] - 0s 4ms/step - loss: 0.0013\n",
      "Epoch 8/100\n",
      "1/1 [==============================] - 0s 3ms/step - loss: 0.0012\n",
      "Epoch 9/100\n",
      "1/1 [==============================] - 0s 2ms/step - loss: 0.0011\n",
      "Epoch 10/100\n",
      "1/1 [==============================] - 0s 4ms/step - loss: 0.0010\n",
      "Epoch 11/100\n",
      "1/1 [==============================] - 0s 1ms/step - loss: 9.3836e-04\n",
      "Epoch 12/100\n",
      "1/1 [==============================] - 0s 4ms/step - loss: 8.5599e-04\n",
      "Epoch 13/100\n",
      "1/1 [==============================] - 0s 3ms/step - loss: 7.7978e-04\n",
      "Epoch 14/100\n",
      "1/1 [==============================] - 0s 2ms/step - loss: 7.0919e-04\n",
      "Epoch 15/100\n",
      "1/1 [==============================] - 0s 4ms/step - loss: 6.4378e-04\n",
      "Epoch 16/100\n",
      "1/1 [==============================] - 0s 2ms/step - loss: 5.8318e-04\n",
      "Epoch 17/100\n",
      "1/1 [==============================] - 0s 4ms/step - loss: 5.2708e-04\n",
      "Epoch 18/100\n",
      "1/1 [==============================] - 0s 4ms/step - loss: 4.7520e-04\n",
      "Epoch 19/100\n",
      "1/1 [==============================] - 0s 3ms/step - loss: 4.2730e-04\n",
      "Epoch 20/100\n",
      "1/1 [==============================] - 0s 4ms/step - loss: 3.8314e-04\n",
      "Epoch 21/100\n",
      "1/1 [==============================] - 0s 2ms/step - loss: 3.4252e-04\n",
      "Epoch 22/100\n",
      "1/1 [==============================] - 0s 4ms/step - loss: 3.0522e-04\n",
      "Epoch 23/100\n",
      "1/1 [==============================] - 0s 2ms/step - loss: 2.7106e-04\n",
      "Epoch 24/100\n",
      "1/1 [==============================] - 0s 3ms/step - loss: 2.3985e-04\n",
      "Epoch 25/100\n",
      "1/1 [==============================] - 0s 3ms/step - loss: 2.1140e-04\n",
      "Epoch 26/100\n",
      "1/1 [==============================] - 0s 5ms/step - loss: 1.8554e-04\n",
      "Epoch 27/100\n",
      "1/1 [==============================] - 0s 3ms/step - loss: 1.6211e-04\n",
      "Epoch 28/100\n",
      "1/1 [==============================] - 0s 4ms/step - loss: 1.4095e-04\n",
      "Epoch 29/100\n",
      "1/1 [==============================] - 0s 2ms/step - loss: 1.2189e-04\n",
      "Epoch 30/100\n",
      "1/1 [==============================] - 0s 3ms/step - loss: 1.0480e-04\n",
      "Epoch 31/100\n",
      "1/1 [==============================] - 0s 4ms/step - loss: 8.9544e-05\n",
      "Epoch 32/100\n",
      "1/1 [==============================] - 0s 4ms/step - loss: 7.5981e-05\n",
      "Epoch 33/100\n",
      "1/1 [==============================] - 0s 3ms/step - loss: 6.3991e-05\n",
      "Epoch 34/100\n",
      "1/1 [==============================] - 0s 3ms/step - loss: 5.3456e-05\n",
      "Epoch 35/100\n",
      "1/1 [==============================] - 0s 3ms/step - loss: 4.4263e-05\n",
      "Epoch 36/100\n",
      "1/1 [==============================] - 0s 4ms/step - loss: 3.6301e-05\n",
      "Epoch 37/100\n",
      "1/1 [==============================] - 0s 5ms/step - loss: 2.9463e-05\n",
      "Epoch 38/100\n",
      "1/1 [==============================] - 0s 4ms/step - loss: 2.3647e-05\n",
      "Epoch 39/100\n",
      "1/1 [==============================] - 0s 4ms/step - loss: 1.8758e-05\n",
      "Epoch 40/100\n",
      "1/1 [==============================] - 0s 2ms/step - loss: 1.4779e-05\n",
      "Epoch 41/100\n",
      "1/1 [==============================] - 0s 4ms/step - loss: 1.2132e-05\n",
      "Epoch 42/100\n",
      "1/1 [==============================] - 0s 3ms/step - loss: 1.2557e-05\n",
      "Epoch 43/100\n",
      "1/1 [==============================] - 0s 3ms/step - loss: 1.6017e-05\n",
      "Epoch 44/100\n",
      "1/1 [==============================] - 0s 4ms/step - loss: 1.9040e-05\n",
      "Epoch 45/100\n",
      "1/1 [==============================] - 0s 4ms/step - loss: 1.5086e-05\n",
      "Epoch 46/100\n",
      "1/1 [==============================] - 0s 3ms/step - loss: 8.8674e-06\n",
      "Epoch 47/100\n",
      "1/1 [==============================] - 0s 3ms/step - loss: 5.2944e-06\n",
      "Epoch 48/100\n",
      "1/1 [==============================] - 0s 3ms/step - loss: 3.3175e-06\n",
      "Epoch 49/100\n",
      "1/1 [==============================] - 0s 3ms/step - loss: 2.2850e-06\n",
      "Epoch 50/100\n",
      "1/1 [==============================] - 0s 2ms/step - loss: 1.6913e-06\n",
      "Epoch 51/100\n",
      "1/1 [==============================] - 0s 2ms/step - loss: 1.3940e-06\n",
      "Epoch 52/100\n",
      "1/1 [==============================] - 0s 3ms/step - loss: 1.3052e-06\n",
      "Epoch 53/100\n",
      "1/1 [==============================] - 0s 4ms/step - loss: 1.4614e-06\n",
      "Epoch 54/100\n",
      "1/1 [==============================] - 0s 4ms/step - loss: 1.9286e-06\n",
      "Epoch 55/100\n",
      "1/1 [==============================] - 0s 4ms/step - loss: 2.9330e-06\n",
      "Epoch 56/100\n",
      "1/1 [==============================] - 0s 5ms/step - loss: 4.6042e-06\n",
      "Epoch 57/100\n",
      "1/1 [==============================] - 0s 3ms/step - loss: 6.9002e-06\n",
      "Epoch 58/100\n",
      "1/1 [==============================] - 0s 3ms/step - loss: 8.4729e-06\n",
      "Epoch 59/100\n",
      "1/1 [==============================] - 0s 3ms/step - loss: 8.5707e-06\n",
      "Epoch 60/100\n",
      "1/1 [==============================] - 0s 3ms/step - loss: 6.9451e-06\n",
      "Epoch 61/100\n",
      "1/1 [==============================] - 0s 2ms/step - loss: 5.3138e-06\n",
      "Epoch 62/100\n",
      "1/1 [==============================] - 0s 4ms/step - loss: 3.8986e-06\n",
      "Epoch 63/100\n",
      "1/1 [==============================] - 0s 4ms/step - loss: 3.0958e-06\n",
      "Epoch 64/100\n",
      "1/1 [==============================] - 0s 3ms/step - loss: 2.6090e-06\n",
      "Epoch 65/100\n",
      "1/1 [==============================] - 0s 2ms/step - loss: 2.4736e-06\n",
      "Epoch 66/100\n",
      "1/1 [==============================] - 0s 3ms/step - loss: 2.5375e-06\n",
      "Epoch 67/100\n",
      "1/1 [==============================] - 0s 3ms/step - loss: 2.8875e-06\n",
      "Epoch 68/100\n",
      "1/1 [==============================] - 0s 3ms/step - loss: 3.4468e-06\n",
      "Epoch 69/100\n",
      "1/1 [==============================] - 0s 3ms/step - loss: 4.3300e-06\n",
      "Epoch 70/100\n",
      "1/1 [==============================] - 0s 2ms/step - loss: 5.2922e-06\n",
      "Epoch 71/100\n",
      "1/1 [==============================] - 0s 3ms/step - loss: 6.2778e-06\n",
      "Epoch 72/100\n",
      "1/1 [==============================] - 0s 5ms/step - loss: 6.6738e-06\n",
      "Epoch 73/100\n",
      "1/1 [==============================] - 0s 4ms/step - loss: 6.6331e-06\n",
      "Epoch 74/100\n",
      "1/1 [==============================] - 0s 4ms/step - loss: 5.9331e-06\n",
      "Epoch 75/100\n",
      "1/1 [==============================] - 0s 3ms/step - loss: 5.2301e-06\n",
      "Epoch 76/100\n",
      "1/1 [==============================] - 0s 4ms/step - loss: 4.4619e-06\n",
      "Epoch 77/100\n",
      "1/1 [==============================] - 0s 3ms/step - loss: 3.9951e-06\n",
      "Epoch 78/100\n",
      "1/1 [==============================] - 0s 3ms/step - loss: 3.6524e-06\n",
      "Epoch 79/100\n",
      "1/1 [==============================] - 0s 3ms/step - loss: 3.5919e-06\n",
      "Epoch 80/100\n",
      "1/1 [==============================] - 0s 3ms/step - loss: 3.6494e-06\n",
      "Epoch 81/100\n",
      "1/1 [==============================] - 0s 3ms/step - loss: 3.9479e-06\n",
      "Epoch 82/100\n",
      "1/1 [==============================] - 0s 3ms/step - loss: 4.3135e-06\n",
      "Epoch 83/100\n",
      "1/1 [==============================] - 0s 3ms/step - loss: 4.8482e-06\n",
      "Epoch 84/100\n",
      "1/1 [==============================] - 0s 3ms/step - loss: 5.2715e-06\n",
      "Epoch 85/100\n",
      "1/1 [==============================] - 0s 3ms/step - loss: 5.6736e-06\n",
      "Epoch 86/100\n",
      "1/1 [==============================] - 0s 3ms/step - loss: 5.7197e-06\n",
      "Epoch 87/100\n",
      "1/1 [==============================] - 0s 3ms/step - loss: 5.6560e-06\n",
      "Epoch 88/100\n",
      "1/1 [==============================] - 0s 4ms/step - loss: 5.2840e-06\n",
      "Epoch 89/100\n",
      "1/1 [==============================] - 0s 5ms/step - loss: 4.9697e-06\n",
      "Epoch 90/100\n",
      "1/1 [==============================] - 0s 4ms/step - loss: 4.5685e-06\n",
      "Epoch 91/100\n",
      "1/1 [==============================] - 0s 3ms/step - loss: 4.3556e-06\n",
      "Epoch 92/100\n",
      "1/1 [==============================] - 0s 2ms/step - loss: 4.1647e-06\n",
      "Epoch 93/100\n",
      "1/1 [==============================] - 0s 3ms/step - loss: 4.1785e-06\n",
      "Epoch 94/100\n",
      "1/1 [==============================] - 0s 3ms/step - loss: 4.2214e-06\n",
      "Epoch 95/100\n",
      "1/1 [==============================] - 0s 4ms/step - loss: 4.4392e-06\n",
      "Epoch 96/100\n",
      "1/1 [==============================] - 0s 997us/step - loss: 4.6300e-06\n",
      "Epoch 97/100\n",
      "1/1 [==============================] - 0s 4ms/step - loss: 4.9275e-06\n",
      "Epoch 98/100\n",
      "1/1 [==============================] - 0s 4ms/step - loss: 5.0855e-06\n",
      "Epoch 99/100\n",
      "1/1 [==============================] - 0s 4ms/step - loss: 5.2641e-06\n",
      "Epoch 100/100\n"
     ]
    },
    {
     "name": "stdout",
     "output_type": "stream",
     "text": [
      "1/1 [==============================] - ETA: 0s - loss: 5.2190e-06\b\b\b\b\b\b\b\b\b\b\b\b\b\b\b\b\b\b\b\b\b\b\b\b\b\b\b\b\b\b\b\b\b\b\b\b\b\b\b\b\b\b\b\b\b\b\b\b\b\b\b\b\b\b\b\b\b\b\b\b\b\b\b\b\b\r",
      "1/1 [==============================] - 0s 3ms/step - loss: 5.2190e-06\n"
     ]
    }
   ],
   "source": [
    "#  Retrain network\n",
    "model_history = train_model(model=model,\n",
    "                            X=X_train, Y=Y_train,\n",
    "                            epochs=100,\n",
    "                            version=0, run_number=1)"
   ]
  },
  {
   "cell_type": "markdown",
   "metadata": {},
   "source": [
    "## Evaluate LSTM Model"
   ]
  },
  {
   "cell_type": "code",
   "execution_count": 14,
   "metadata": {},
   "outputs": [],
   "source": [
    "#  Combine training and testing datasets\n",
    "combined_set = np.concatenate((train_data, test_data), axis=1)"
   ]
  },
  {
   "cell_type": "code",
   "execution_count": 15,
   "metadata": {},
   "outputs": [],
   "source": [
    "#  Evaluate model at each week for the test set\n",
    "evaluated_weeks = []\n",
    "for i in range(0, test_data.shape[1]):\n",
    "    input_series = combined_set[0:, i:i + 77]\n",
    "\n",
    "    X_test = input_series[0:, :-1].reshape(1, input_series.shape[1] - 1, 7)\n",
    "    Y_test = input_series[0:, -1:][0]\n",
    "\n",
    "    result = model.evaluate(x=X_test, y=Y_test, verbose=0)\n",
    "    evaluated_weeks.append(result)"
   ]
  },
  {
   "cell_type": "code",
   "execution_count": 16,
   "metadata": {},
   "outputs": [
    {
     "data": {
      "image/png": "[encoded data removed]",
      "text/plain": [
       "<Figure size 1008x288 with 1 Axes>"
      ]
     },
     "metadata": {},
     "output_type": "display_data"
    }
   ],
   "source": [
    "#  Plot MSE for all evaluated weeks\n",
    "ax = pd.Series(evaluated_weeks).plot(drawstyle=\"steps-post\",\n",
    "                                     figsize=(14, 4),\n",
    "                                     color='#2c3e50',\n",
    "                                     grid=True,\n",
    "                                     title='Mean Squared Error (MSE) for Test Data')\n",
    "\n",
    "ax.set_xticks(range(0, len(evaluated_weeks)))\n",
    "ax.set_xlabel(\"Predicted Week\")\n",
    "ax.set_ylabel(\"MSE\")\n",
    "plt.show()"
   ]
  },
  {
   "cell_type": "markdown",
   "metadata": {},
   "source": [
    "## Interpreting Model Results"
   ]
  },
  {
   "cell_type": "markdown",
   "metadata": {},
   "source": [
    "### Make Predictions"
   ]
  },
  {
   "cell_type": "code",
   "execution_count": 17,
   "metadata": {},
   "outputs": [],
   "source": [
    "#  Make predictions for each of the 19 weeks\n",
    "#  in the test set\n",
    "predicted_weeks = []\n",
    "for i in range(0, test_data.shape[1]):\n",
    "    input_series = combined_set[0:, i:i + 76]\n",
    "    predicted_weeks.append(model.predict(input_series))"
   ]
  },
  {
   "cell_type": "code",
   "execution_count": 18,
   "metadata": {},
   "outputs": [],
   "source": [
    "#  Flatten `predicted_weeks` to get a list\n",
    "#  of predictions for each day in the 19 weeks\n",
    "predicted_days = []\n",
    "for week in predicted_weeks:\n",
    "    predicted_days += list(week[0])"
   ]
  },
  {
   "cell_type": "code",
   "execution_count": 19,
   "metadata": {},
   "outputs": [],
   "source": [
    "#  Create list of dates associated with predictions\n",
    "last_day = datetime.strptime(train['date'].max(), '%Y-%m-%d')\n",
    "list_of_days = []\n",
    "for days in range(1, len(predicted_days) + 1):\n",
    "    D = (last_day + timedelta(days=days)).strftime('%Y-%m-%d')\n",
    "    list_of_days.append(D)"
   ]
  },
  {
   "cell_type": "code",
   "execution_count": 20,
   "metadata": {},
   "outputs": [
    {
     "data": {
      "text/html": [
       "<div>\n",
       "<style scoped>\n",
       "    .dataframe tbody tr th:only-of-type {\n",
       "        vertical-align: middle;\n",
       "    }\n",
       "\n",
       "    .dataframe tbody tr th {\n",
       "        vertical-align: top;\n",
       "    }\n",
       "\n",
       "    .dataframe thead th {\n",
       "        text-align: right;\n",
       "    }\n",
       "</style>\n",
       "<table border=\"1\" class=\"dataframe\">\n",
       "  <thead>\n",
       "    <tr style=\"text-align: right;\">\n",
       "      <th></th>\n",
       "      <th>date</th>\n",
       "      <th>close_point_relative_normalization</th>\n",
       "    </tr>\n",
       "  </thead>\n",
       "  <tbody>\n",
       "    <tr>\n",
       "      <th>0</th>\n",
       "      <td>2017-06-25</td>\n",
       "      <td>-0.001222</td>\n",
       "    </tr>\n",
       "    <tr>\n",
       "      <th>1</th>\n",
       "      <td>2017-06-26</td>\n",
       "      <td>0.018707</td>\n",
       "    </tr>\n",
       "    <tr>\n",
       "      <th>2</th>\n",
       "      <td>2017-06-27</td>\n",
       "      <td>0.069612</td>\n",
       "    </tr>\n",
       "    <tr>\n",
       "      <th>3</th>\n",
       "      <td>2017-06-28</td>\n",
       "      <td>0.052898</td>\n",
       "    </tr>\n",
       "    <tr>\n",
       "      <th>4</th>\n",
       "      <td>2017-06-29</td>\n",
       "      <td>0.065696</td>\n",
       "    </tr>\n",
       "  </tbody>\n",
       "</table>\n",
       "</div>"
      ],
      "text/plain": [
       "         date  close_point_relative_normalization\n",
       "0  2017-06-25                           -0.001222\n",
       "1  2017-06-26                            0.018707\n",
       "2  2017-06-27                            0.069612\n",
       "3  2017-06-28                            0.052898\n",
       "4  2017-06-29                            0.065696"
      ]
     },
     "execution_count": 20,
     "metadata": {},
     "output_type": "execute_result"
    }
   ],
   "source": [
    "#  Create dataframe with predicted values\n",
    "predicted = pd.DataFrame({\n",
    "    'date': list_of_days,\n",
    "    'close_point_relative_normalization': predicted_days\n",
    "})\n",
    "predicted.head()"
   ]
  },
  {
   "cell_type": "code",
   "execution_count": 21,
   "metadata": {},
   "outputs": [],
   "source": [
    "#  Convert `date` variable to datetime\n",
    "predicted['date'] = predicted['date'].apply(\n",
    "    lambda x: datetime.strptime(x, '%Y-%m-%d'))\n",
    "\n",
    "test['date'] = test['date'].apply(\n",
    "    lambda x: datetime.strptime(x, '%Y-%m-%d'))"
   ]
  },
  {
   "cell_type": "code",
   "execution_count": 22,
   "metadata": {},
   "outputs": [],
   "source": [
    "def plot_two_series(A, B, variable, title):\n",
    "    \"\"\"Plot two series using the same `date` index. \n",
    "    \n",
    "    Parameters\n",
    "    ----------\n",
    "    A, B: pd.DataFrame\n",
    "        Dataframe with a `date` key and a variable\n",
    "        passed in the `variable` parameter. Parameter A\n",
    "        represents the \"Observed\" series and B the \"Predicted\"\n",
    "        series. These will be labelled respectively. \n",
    "    \n",
    "    variable: str\n",
    "        Variable to use in plot.\n",
    "    \n",
    "    title: str\n",
    "        Plot title.\n",
    "    \"\"\"\n",
    "    plt.figure(figsize=(14, 4))\n",
    "    plt.xlabel('Observed and predicted')\n",
    "\n",
    "    ax1 = A.set_index('date')[variable].plot(\n",
    "        color='#d35400', grid=True, label='Observed', title=title)\n",
    "\n",
    "    ax2 = B.set_index('date')[variable].plot(\n",
    "        color='grey', grid=True, label='Predicted')\n",
    "    \n",
    "    ax1.set_xlabel(\"Predicted Week\")\n",
    "    ax1.set_ylabel(\"Predicted Values\")\n",
    "\n",
    "    plt.legend()\n",
    "    plt.show()"
   ]
  },
  {
   "cell_type": "code",
   "execution_count": 23,
   "metadata": {},
   "outputs": [
    {
     "data": {
      "image/png": "[encoded data removed]",
      "text/plain": [
       "<Figure size 1008x288 with 1 Axes>"
      ]
     },
     "metadata": {},
     "output_type": "display_data"
    }
   ],
   "source": [
    "#  Plot predicted normalized prices\n",
    "#  against actual normalized prices\n",
    "plot_two_series(A=test[:-3],\n",
    "                B=predicted,\n",
    "                variable='close_point_relative_normalization',\n",
    "                title='Normalized Predictions per Week')"
   ]
  },
  {
   "cell_type": "markdown",
   "metadata": {},
   "source": [
    "### De-normalize Predictions"
   ]
  },
  {
   "cell_type": "code",
   "execution_count": 24,
   "metadata": {},
   "outputs": [],
   "source": [
    "#  Add variable `iso_week` by stripping the Year and Week from `date`\n",
    "predicted['iso_week'] = predicted['date'].apply(\n",
    "    lambda x: x.strftime('%Y-%U'))"
   ]
  },
  {
   "cell_type": "code",
   "execution_count": 25,
   "metadata": {},
   "outputs": [],
   "source": [
    "def denormalize(reference, series,\n",
    "                normalized_variable='close_point_relative_normalization',\n",
    "                denormalized_variable='close'):\n",
    "    \"\"\"Denormalize the values for a given series.\n",
    "\n",
    "    Parameters\n",
    "    ----------\n",
    "    reference: pd.DataFrame\n",
    "        DataFrame to use as reference. This dataframe\n",
    "        contains both a week index and the USD price\n",
    "        reference that we are interested on.\n",
    "\n",
    "    series: pd.DataFrame\n",
    "        DataFrame with the predicted series. The\n",
    "        DataFrame must have the same columns as the\n",
    "        `reference` dataset.\n",
    "\n",
    "    normalized_variable: str, default 'close_point_relative_normalization'\n",
    "        Variable to use in normalization.\n",
    "\n",
    "    denormalized_variable: str, default `close`\n",
    "        Variable to use in de-normalization.\n",
    "\n",
    "    Returns\n",
    "    -------\n",
    "    A modified DataFrame with the new variable provided\n",
    "    in `denormalized_variable` parameter.\n",
    "    \"\"\"\n",
    "    week_values = reference[reference['iso_week'] == series['iso_week'].values[0]]\n",
    "    last_value = week_values[denormalized_variable].values[0]\n",
    "    series[denormalized_variable] = last_value * (series[normalized_variable] + 1)\n",
    "\n",
    "    return series"
   ]
  },
  {
   "cell_type": "code",
   "execution_count": 26,
   "metadata": {},
   "outputs": [],
   "source": [
    "#  Denormalize predictions\n",
    "predicted_close = predicted.groupby('iso_week').apply(\n",
    "    lambda x: denormalize(test[:-3], x))"
   ]
  },
  {
   "cell_type": "code",
   "execution_count": 27,
   "metadata": {},
   "outputs": [
    {
     "data": {
      "image/png": "[encoded data removed]",
      "text/plain": [
       "<Figure size 1008x288 with 1 Axes>"
      ]
     },
     "metadata": {},
     "output_type": "display_data"
    }
   ],
   "source": [
    "#  Plot denormalized predictions and observed closing prices in test set\n",
    "plot_two_series(A=test[:-3],\n",
    "                B=predicted_close,\n",
    "                variable='close',\n",
    "                title='De-normalized Predictions per Week')"
   ]
  },
  {
   "cell_type": "code",
   "execution_count": null,
   "metadata": {},
   "outputs": [],
   "source": []
  },
  {
   "cell_type": "markdown",
   "metadata": {},
   "source": [
    "### Calculate RMSE and MAPE"
   ]
  },
  {
   "cell_type": "code",
   "execution_count": 29,
   "metadata": {},
   "outputs": [],
   "source": [
    "def mape(A, B):\n",
    "    \"\"\"Calculate the mean absolute percentage error from two series.\"\"\"\n",
    "    return np.mean(np.abs((A - B) / A)) * 100\n",
    "\n",
    "\n",
    "def rmse(A, B):\n",
    "    \"\"\"Calculate the root mean square error from two series.\"\"\"\n",
    "    return np.sqrt(np.square(np.subtract(A, B)).mean())"
   ]
  },
  {
   "cell_type": "code",
   "execution_count": 30,
   "metadata": {},
   "outputs": [
    {
     "name": "stdout",
     "output_type": "stream",
     "text": [
      "Normalized RMSE: 0.10\n"
     ]
    }
   ],
   "source": [
    "A = test[:-3]['close_point_relative_normalization']\n",
    "B = predicted_close['close_point_relative_normalization']\n",
    "\n",
    "print(f'Normalized RMSE: {rmse(A, B):.2f}')"
   ]
  },
  {
   "cell_type": "code",
   "execution_count": 31,
   "metadata": {},
   "outputs": [
    {
     "name": "stdout",
     "output_type": "stream",
     "text": [
      "De-normalized RMSE: 354.12\n",
      "De-normalized MAPE: 6.84\n"
     ]
    }
   ],
   "source": [
    "A = test[:-3]['close']\n",
    "B = predicted_close['close']\n",
    "\n",
    "print(f'De-normalized RMSE: {rmse(A, B):.2f}')\n",
    "print(f'De-normalized MAPE: {mape(A, B):.2f}')"
   ]
  },
  {
   "cell_type": "code",
   "execution_count": null,
   "metadata": {},
   "outputs": [],
   "source": []
  }
 ],
 "metadata": {
  "kernelspec": {
   "display_name": "Python 3",
   "language": "python",
   "name": "python3"
  },
  "language_info": {
   "codemirror_mode": {
    "name": "ipython",
    "version": 3
   },
   "file_extension": ".py",
   "mimetype": "text/x-python",
   "name": "python",
   "nbconvert_exporter": "python",
   "pygments_lexer": "ipython3",
   "version": "3.7.6"
  }
 },
 "nbformat": 4,
 "nbformat_minor": 2
}
