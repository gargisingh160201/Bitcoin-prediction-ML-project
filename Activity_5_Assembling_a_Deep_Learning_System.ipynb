{
 "cells": [
  {
   "cell_type": "markdown",
   "metadata": {},
   "source": [
    "# Activity 5: Assembling a Deep Learning System\n",
    "In this activity, we will train the first version of our LSTM model using Bitcoin daily closing prices. These prices will be organized using the weeks of both 2016 and 2017. We do that because we are interested in predicting the prices of a week's worth of trading."
   ]
  },
  {
   "cell_type": "code",
   "execution_count": 1,
   "metadata": {},
   "outputs": [
    {
     "data": {
      "application/javascript": [
       "IPython.notebook.set_autosave_interval(5000)"
      ]
     },
     "metadata": {},
     "output_type": "display_data"
    },
    {
     "name": "stdout",
     "output_type": "stream",
     "text": [
      "Autosaving every 5 seconds\n"
     ]
    }
   ],
   "source": [
    "%autosave 5\n",
    "\n",
    "#  Import necessary libraries\n",
    "import numpy as np\n",
    "import pandas as pd\n",
    "import matplotlib.pyplot as plt\n",
    "%matplotlib inline\n",
    "plt.style.use('seaborn-white')\n",
    "\n",
    "from keras.models import load_model"
   ]
  },
  {
   "cell_type": "code",
   "execution_count": 2,
   "metadata": {},
   "outputs": [
    {
     "data": {
      "text/html": [
       "<div>\n",
       "<style scoped>\n",
       "    .dataframe tbody tr th:only-of-type {\n",
       "        vertical-align: middle;\n",
       "    }\n",
       "\n",
       "    .dataframe tbody tr th {\n",
       "        vertical-align: top;\n",
       "    }\n",
       "\n",
       "    .dataframe thead th {\n",
       "        text-align: right;\n",
       "    }\n",
       "</style>\n",
       "<table border=\"1\" class=\"dataframe\">\n",
       "  <thead>\n",
       "    <tr style=\"text-align: right;\">\n",
       "      <th></th>\n",
       "      <th>date</th>\n",
       "      <th>iso_week</th>\n",
       "      <th>close</th>\n",
       "      <th>volume</th>\n",
       "      <th>close_point_relative_normalization</th>\n",
       "      <th>volume_point_relative_normalization</th>\n",
       "    </tr>\n",
       "  </thead>\n",
       "  <tbody>\n",
       "    <tr>\n",
       "      <th>0</th>\n",
       "      <td>2016-01-01</td>\n",
       "      <td>2016-00</td>\n",
       "      <td>434.33</td>\n",
       "      <td>36278900.0</td>\n",
       "      <td>0.000000</td>\n",
       "      <td>0.000000</td>\n",
       "    </tr>\n",
       "    <tr>\n",
       "      <th>1</th>\n",
       "      <td>2016-01-02</td>\n",
       "      <td>2016-00</td>\n",
       "      <td>433.44</td>\n",
       "      <td>30096600.0</td>\n",
       "      <td>-0.170410</td>\n",
       "      <td>-0.170410</td>\n",
       "    </tr>\n",
       "    <tr>\n",
       "      <th>2</th>\n",
       "      <td>2016-01-03</td>\n",
       "      <td>2016-01</td>\n",
       "      <td>430.01</td>\n",
       "      <td>39633800.0</td>\n",
       "      <td>0.000000</td>\n",
       "      <td>0.000000</td>\n",
       "    </tr>\n",
       "    <tr>\n",
       "      <th>3</th>\n",
       "      <td>2016-01-04</td>\n",
       "      <td>2016-01</td>\n",
       "      <td>433.09</td>\n",
       "      <td>38477500.0</td>\n",
       "      <td>-0.029175</td>\n",
       "      <td>-0.029175</td>\n",
       "    </tr>\n",
       "    <tr>\n",
       "      <th>4</th>\n",
       "      <td>2016-01-05</td>\n",
       "      <td>2016-01</td>\n",
       "      <td>431.96</td>\n",
       "      <td>34522600.0</td>\n",
       "      <td>-0.128961</td>\n",
       "      <td>-0.128961</td>\n",
       "    </tr>\n",
       "  </tbody>\n",
       "</table>\n",
       "</div>"
      ],
      "text/plain": [
       "         date iso_week   close      volume  \\\n",
       "0  2016-01-01  2016-00  434.33  36278900.0   \n",
       "1  2016-01-02  2016-00  433.44  30096600.0   \n",
       "2  2016-01-03  2016-01  430.01  39633800.0   \n",
       "3  2016-01-04  2016-01  433.09  38477500.0   \n",
       "4  2016-01-05  2016-01  431.96  34522600.0   \n",
       "\n",
       "   close_point_relative_normalization  volume_point_relative_normalization  \n",
       "0                            0.000000                             0.000000  \n",
       "1                           -0.170410                            -0.170410  \n",
       "2                            0.000000                             0.000000  \n",
       "3                           -0.029175                            -0.029175  \n",
       "4                           -0.128961                            -0.128961  "
      ]
     },
     "execution_count": 2,
     "metadata": {},
     "output_type": "execute_result"
    }
   ],
   "source": [
    "#  Import training dataset\n",
    "train = pd.read_csv('data/train_dataset.csv')\n",
    "train.head()"
   ]
  },
  {
   "cell_type": "markdown",
   "metadata": {},
   "source": [
    "## Reshape Data"
   ]
  },
  {
   "cell_type": "code",
   "execution_count": 3,
   "metadata": {},
   "outputs": [],
   "source": [
    "def create_groups(data, group_size=7):\n",
    "    \"\"\"Create distinct groups from a continuous series.\n",
    "    \n",
    "    Parameters\n",
    "    ----------\n",
    "    data: np.array\n",
    "        Series of continious observations.\n",
    "\n",
    "    group_size: int, default 7\n",
    "        Determines how large the groups are. That is,\n",
    "        how many observations each group contains.\n",
    "    \n",
    "    Returns\n",
    "    -------\n",
    "    A Numpy array object. \n",
    "    \"\"\"\n",
    "    samples = []\n",
    "    for i in range(0, len(data), group_size):\n",
    "        sample = list(data[i:i + group_size])\n",
    "        if len(sample) == group_size:\n",
    "            samples.append(np.array(sample).reshape(1, group_size))\n",
    "    \n",
    "    return np.array(samples)"
   ]
  },
  {
   "cell_type": "code",
   "execution_count": 4,
   "metadata": {},
   "outputs": [
    {
     "data": {
      "text/plain": [
       "2"
      ]
     },
     "execution_count": 4,
     "metadata": {},
     "output_type": "execute_result"
    }
   ],
   "source": [
    "#  Find the remainder when the number of observations is divided by group size\n",
    "len(train) % 7"
   ]
  },
  {
   "cell_type": "code",
   "execution_count": 5,
   "metadata": {},
   "outputs": [
    {
     "name": "stdout",
     "output_type": "stream",
     "text": [
      "(77, 1, 7)\n"
     ]
    }
   ],
   "source": [
    "#  Create groups of 7 from our data.\n",
    "#  We drop the first two observations so that the\n",
    "#  number of total observations is divisible by the `group_size`.\n",
    "data = create_groups(train['close_point_relative_normalization'][2:].values)\n",
    "print(data.shape)"
   ]
  },
  {
   "cell_type": "code",
   "execution_count": 6,
   "metadata": {},
   "outputs": [
    {
     "name": "stdout",
     "output_type": "stream",
     "text": [
      "(1, 76, 7)\n",
      "(1, 7)\n"
     ]
    }
   ],
   "source": [
    "#  Reshape data into format expected by LSTM layer\n",
    "X_train = data[:-1, :].reshape(1, 76, 7)\n",
    "Y_validation = data[-1].reshape(1, 7)\n",
    "print(X_train.shape)\n",
    "print(Y_validation.shape)"
   ]
  },
  {
   "cell_type": "markdown",
   "metadata": {},
   "source": [
    "## Load Our Model"
   ]
  },
  {
   "cell_type": "code",
   "execution_count": 7,
   "metadata": {},
   "outputs": [],
   "source": [
    "#  Load our previously trained model \n",
    "model = load_model('bitcoin_lstm_v0.h5')"
   ]
  },
  {
   "cell_type": "markdown",
   "metadata": {},
   "source": [
    "## Train model"
   ]
  },
  {
   "cell_type": "code",
   "execution_count": 8,
   "metadata": {
    "scrolled": true
   },
   "outputs": [
    {
     "name": "stdout",
     "output_type": "stream",
     "text": [
      "Epoch 1/100\n",
      "1/1 [==============================] - 0s 44ms/step - loss: 0.0816\n",
      "Epoch 2/100\n",
      "1/1 [==============================] - 0s 6ms/step - loss: 0.0725\n",
      "Epoch 3/100\n",
      "1/1 [==============================] - 0s 6ms/step - loss: 0.0665\n",
      "Epoch 4/100\n",
      "1/1 [==============================] - 0s 4ms/step - loss: 0.0618\n",
      "Epoch 5/100\n",
      "1/1 [==============================] - 0s 7ms/step - loss: 0.0579\n",
      "Epoch 6/100\n",
      "1/1 [==============================] - 0s 5ms/step - loss: 0.0544\n",
      "Epoch 7/100\n",
      "1/1 [==============================] - 0s 6ms/step - loss: 0.0512\n",
      "Epoch 8/100\n",
      "1/1 [==============================] - 0s 3ms/step - loss: 0.0484\n",
      "Epoch 9/100\n",
      "1/1 [==============================] - 0s 3ms/step - loss: 0.0457\n",
      "Epoch 10/100\n",
      "1/1 [==============================] - 0s 3ms/step - loss: 0.0432\n",
      "Epoch 11/100\n",
      "1/1 [==============================] - 0s 3ms/step - loss: 0.0408\n",
      "Epoch 12/100\n",
      "1/1 [==============================] - 0s 3ms/step - loss: 0.0385\n",
      "Epoch 13/100\n",
      "1/1 [==============================] - 0s 2ms/step - loss: 0.0364\n",
      "Epoch 14/100\n",
      "1/1 [==============================] - 0s 4ms/step - loss: 0.0343\n",
      "Epoch 15/100\n",
      "1/1 [==============================] - 0s 3ms/step - loss: 0.0324\n",
      "Epoch 16/100\n",
      "1/1 [==============================] - 0s 3ms/step - loss: 0.0305\n",
      "Epoch 17/100\n",
      "1/1 [==============================] - 0s 3ms/step - loss: 0.0287\n",
      "Epoch 18/100\n",
      "1/1 [==============================] - 0s 3ms/step - loss: 0.0269\n",
      "Epoch 19/100\n",
      "1/1 [==============================] - 0s 3ms/step - loss: 0.0252\n",
      "Epoch 20/100\n",
      "1/1 [==============================] - 0s 3ms/step - loss: 0.0236\n",
      "Epoch 21/100\n",
      "1/1 [==============================] - 0s 3ms/step - loss: 0.0220\n",
      "Epoch 22/100\n",
      "1/1 [==============================] - 0s 3ms/step - loss: 0.0205\n",
      "Epoch 23/100\n",
      "1/1 [==============================] - 0s 5ms/step - loss: 0.0191\n",
      "Epoch 24/100\n",
      "1/1 [==============================] - 0s 3ms/step - loss: 0.0177\n",
      "Epoch 25/100\n",
      "1/1 [==============================] - 0s 4ms/step - loss: 0.0164\n",
      "Epoch 26/100\n",
      "1/1 [==============================] - 0s 4ms/step - loss: 0.0152\n",
      "Epoch 27/100\n",
      "1/1 [==============================] - 0s 3ms/step - loss: 0.0140\n",
      "Epoch 28/100\n",
      "1/1 [==============================] - 0s 4ms/step - loss: 0.0129\n",
      "Epoch 29/100\n",
      "1/1 [==============================] - 0s 3ms/step - loss: 0.0118\n",
      "Epoch 30/100\n",
      "1/1 [==============================] - 0s 3ms/step - loss: 0.0108\n",
      "Epoch 31/100\n",
      "1/1 [==============================] - 0s 3ms/step - loss: 0.0098\n",
      "Epoch 32/100\n",
      "1/1 [==============================] - 0s 4ms/step - loss: 0.0089\n",
      "Epoch 33/100\n",
      "1/1 [==============================] - 0s 2ms/step - loss: 0.0081\n",
      "Epoch 34/100\n",
      "1/1 [==============================] - 0s 3ms/step - loss: 0.0073\n",
      "Epoch 35/100\n",
      "1/1 [==============================] - 0s 3ms/step - loss: 0.0066\n",
      "Epoch 36/100\n",
      "1/1 [==============================] - 0s 2ms/step - loss: 0.0060\n",
      "Epoch 37/100\n",
      "1/1 [==============================] - 0s 4ms/step - loss: 0.0054\n",
      "Epoch 38/100\n",
      "1/1 [==============================] - 0s 5ms/step - loss: 0.0048\n",
      "Epoch 39/100\n",
      "1/1 [==============================] - 0s 4ms/step - loss: 0.0043\n",
      "Epoch 40/100\n",
      "1/1 [==============================] - 0s 3ms/step - loss: 0.0038\n",
      "Epoch 41/100\n",
      "1/1 [==============================] - 0s 3ms/step - loss: 0.0034\n",
      "Epoch 42/100\n",
      "1/1 [==============================] - 0s 4ms/step - loss: 0.0030\n",
      "Epoch 43/100\n",
      "1/1 [==============================] - 0s 2ms/step - loss: 0.0027\n",
      "Epoch 44/100\n",
      "1/1 [==============================] - 0s 5ms/step - loss: 0.0024\n",
      "Epoch 45/100\n",
      "1/1 [==============================] - 0s 3ms/step - loss: 0.0021\n",
      "Epoch 46/100\n",
      "1/1 [==============================] - 0s 2ms/step - loss: 0.0019\n",
      "Epoch 47/100\n",
      "1/1 [==============================] - 0s 3ms/step - loss: 0.0017\n",
      "Epoch 48/100\n",
      "1/1 [==============================] - 0s 3ms/step - loss: 0.0015\n",
      "Epoch 49/100\n",
      "1/1 [==============================] - 0s 4ms/step - loss: 0.0013\n",
      "Epoch 50/100\n",
      "1/1 [==============================] - 0s 3ms/step - loss: 0.0012\n",
      "Epoch 51/100\n",
      "1/1 [==============================] - 0s 3ms/step - loss: 0.0011\n",
      "Epoch 52/100\n",
      "1/1 [==============================] - 0s 3ms/step - loss: 9.5768e-04\n",
      "Epoch 53/100\n",
      "1/1 [==============================] - 0s 3ms/step - loss: 8.5866e-04\n",
      "Epoch 54/100\n",
      "1/1 [==============================] - 0s 3ms/step - loss: 7.7039e-04\n",
      "Epoch 55/100\n",
      "1/1 [==============================] - 0s 3ms/step - loss: 6.9138e-04\n",
      "Epoch 56/100\n",
      "1/1 [==============================] - 0s 3ms/step - loss: 6.2037e-04\n",
      "Epoch 57/100\n",
      "1/1 [==============================] - 0s 2ms/step - loss: 5.5631e-04\n",
      "Epoch 58/100\n",
      "1/1 [==============================] - 0s 3ms/step - loss: 4.9831e-04\n",
      "Epoch 59/100\n",
      "1/1 [==============================] - 0s 4ms/step - loss: 4.4565e-04\n",
      "Epoch 60/100\n",
      "1/1 [==============================] - 0s 3ms/step - loss: 3.9774e-04\n",
      "Epoch 61/100\n",
      "1/1 [==============================] - 0s 3ms/step - loss: 3.5409e-04\n",
      "Epoch 62/100\n",
      "1/1 [==============================] - 0s 2ms/step - loss: 3.1428e-04\n",
      "Epoch 63/100\n",
      "1/1 [==============================] - 0s 5ms/step - loss: 2.7798e-04\n",
      "Epoch 64/100\n",
      "1/1 [==============================] - 0s 4ms/step - loss: 2.4491e-04\n",
      "Epoch 65/100\n",
      "1/1 [==============================] - 0s 3ms/step - loss: 2.1482e-04\n",
      "Epoch 66/100\n",
      "1/1 [==============================] - 0s 3ms/step - loss: 1.8751e-04\n",
      "Epoch 67/100\n",
      "1/1 [==============================] - 0s 4ms/step - loss: 1.6279e-04\n",
      "Epoch 68/100\n",
      "1/1 [==============================] - 0s 3ms/step - loss: 1.4050e-04\n",
      "Epoch 69/100\n",
      "1/1 [==============================] - 0s 3ms/step - loss: 1.2048e-04\n",
      "Epoch 70/100\n",
      "1/1 [==============================] - 0s 3ms/step - loss: 1.0260e-04\n",
      "Epoch 71/100\n",
      "1/1 [==============================] - 0s 2ms/step - loss: 8.6723e-05\n",
      "Epoch 72/100\n",
      "1/1 [==============================] - 0s 2ms/step - loss: 7.2721e-05\n",
      "Epoch 73/100\n",
      "1/1 [==============================] - 0s 3ms/step - loss: 6.0533e-05\n",
      "Epoch 74/100\n",
      "1/1 [==============================] - 0s 2ms/step - loss: 5.0716e-05\n",
      "Epoch 75/100\n",
      "1/1 [==============================] - 0s 4ms/step - loss: 5.0058e-05\n",
      "Epoch 76/100\n",
      "1/1 [==============================] - 0s 4ms/step - loss: 9.2257e-05\n",
      "Epoch 77/100\n",
      "1/1 [==============================] - 0s 2ms/step - loss: 1.0570e-04\n",
      "Epoch 78/100\n",
      "1/1 [==============================] - ETA: 0s - loss: 6.2934e-0 - 0s 4ms/step - loss: 6.2934e-05\n",
      "Epoch 79/100\n",
      "1/1 [==============================] - 0s 3ms/step - loss: 3.3282e-05\n",
      "Epoch 80/100\n",
      "1/1 [==============================] - 0s 4ms/step - loss: 2.0160e-05\n",
      "Epoch 81/100\n",
      "1/1 [==============================] - 0s 4ms/step - loss: 1.3597e-05\n",
      "Epoch 82/100\n",
      "1/1 [==============================] - 0s 2ms/step - loss: 9.8049e-06\n",
      "Epoch 83/100\n",
      "1/1 [==============================] - 0s 3ms/step - loss: 7.3524e-06\n",
      "Epoch 84/100\n",
      "1/1 [==============================] - 0s 3ms/step - loss: 5.7585e-06\n",
      "Epoch 85/100\n",
      "1/1 [==============================] - 0s 4ms/step - loss: 4.8411e-06\n",
      "Epoch 86/100\n",
      "1/1 [==============================] - 0s 3ms/step - loss: 4.6547e-06\n",
      "Epoch 87/100\n",
      "1/1 [==============================] - 0s 4ms/step - loss: 5.4980e-06\n",
      "Epoch 88/100\n",
      "1/1 [==============================] - 0s 3ms/step - loss: 8.2338e-06\n",
      "Epoch 89/100\n",
      "1/1 [==============================] - 0s 5ms/step - loss: 1.4503e-05\n",
      "Epoch 90/100\n",
      "1/1 [==============================] - 0s 3ms/step - loss: 2.6300e-05\n",
      "Epoch 91/100\n",
      "1/1 [==============================] - 0s 3ms/step - loss: 4.0627e-05\n",
      "Epoch 92/100\n",
      "1/1 [==============================] - 0s 4ms/step - loss: 4.7500e-05\n",
      "Epoch 93/100\n",
      "1/1 [==============================] - 0s 4ms/step - loss: 4.1192e-05\n",
      "Epoch 94/100\n",
      "1/1 [==============================] - 0s 2ms/step - loss: 3.0477e-05\n",
      "Epoch 95/100\n",
      "1/1 [==============================] - 0s 4ms/step - loss: 2.1297e-05\n",
      "Epoch 96/100\n",
      "1/1 [==============================] - 0s 2ms/step - loss: 1.5646e-05\n",
      "Epoch 97/100\n",
      "1/1 [==============================] - 0s 2ms/step - loss: 1.2492e-05\n",
      "Epoch 98/100\n",
      "1/1 [==============================] - 0s 4ms/step - loss: 1.1187e-05\n",
      "Epoch 99/100\n",
      "1/1 [==============================] - 0s 3ms/step - loss: 1.1203e-05\n",
      "Epoch 100/100\n",
      "1/1 [==============================] - 0s 2ms/step - loss: 1.2514e-05\n",
      "Wall time: 14.5 s\n"
     ]
    }
   ],
   "source": [
    "%%time\n",
    "#  Train the model\n",
    "history = model.fit(\n",
    "    x=X_train, y=Y_validation,\n",
    "    batch_size=32, epochs=100)"
   ]
  },
  {
   "cell_type": "code",
   "execution_count": 9,
   "metadata": {},
   "outputs": [
    {
     "data": {
      "image/png": "[encoded data removed]",
      "text/plain": [
       "<Figure size 1008x288 with 1 Axes>"
      ]
     },
     "metadata": {},
     "output_type": "display_data"
    }
   ],
   "source": [
    "#  Plot loss function\n",
    "pd.Series(history.history['loss']).plot(figsize=(14, 4));"
   ]
  },
  {
   "cell_type": "markdown",
   "metadata": {},
   "source": [
    "## Make Predictions"
   ]
  },
  {
   "cell_type": "code",
   "execution_count": 10,
   "metadata": {},
   "outputs": [
    {
     "data": {
      "text/plain": [
       "array([-0.00419839,  0.23503523,  0.57460684,  0.38340905, -0.069144  ,\n",
       "       -0.18057011, -0.16419876], dtype=float32)"
      ]
     },
     "execution_count": 10,
     "metadata": {},
     "output_type": "execute_result"
    }
   ],
   "source": [
    "#  Make predictions using X_train data\n",
    "predictions = model.predict(x=X_train)[0]\n",
    "predictions"
   ]
  },
  {
   "cell_type": "code",
   "execution_count": 11,
   "metadata": {},
   "outputs": [],
   "source": [
    "def denormalize(series, last_value):\n",
    "    \"\"\"Denormalize the values for a given series.\n",
    "    \n",
    "    This uses the last value available (i.e. the last\n",
    "    closing price of the week before our prediction)\n",
    "    as a reference for scaling the predicted results.\n",
    "    \"\"\"\n",
    "    result = last_value * (series + 1)\n",
    "    return result"
   ]
  },
  {
   "cell_type": "code",
   "execution_count": 12,
   "metadata": {},
   "outputs": [
    {
     "data": {
      "text/plain": [
       "array([2644.7295, 3280.105 , 4181.967 , 3674.1682, 2472.2417, 2176.3074,\n",
       "       2219.7876], dtype=float32)"
      ]
     },
     "execution_count": 12,
     "metadata": {},
     "output_type": "execute_result"
    }
   ],
   "source": [
    "#  Denormalize predictions\n",
    "last_weeks_value = train[train['date'] == train['date'][:-7].max()]['close'].values[0]\n",
    "\n",
    "denormalized_prediction = denormalize(predictions, last_weeks_value)\n",
    "denormalized_prediction"
   ]
  },
  {
   "cell_type": "code",
   "execution_count": 13,
   "metadata": {},
   "outputs": [
    {
     "data": {
      "image/png": "[encoded data removed]",
      "text/plain": [
       "<Figure size 1008x288 with 1 Axes>"
      ]
     },
     "metadata": {},
     "output_type": "display_data"
    }
   ],
   "source": [
    "#  Plot denormalized predictions against actual predictions\n",
    "plt.figure(figsize=(14, 4))\n",
    "\n",
    "plt.plot(train['close'][-7:].values, label='Actual')\n",
    "plt.plot(denormalized_prediction, color='#d35400', label='Predicted')\n",
    "\n",
    "plt.grid()\n",
    "plt.legend();"
   ]
  },
  {
   "cell_type": "code",
   "execution_count": 14,
   "metadata": {},
   "outputs": [
    {
     "data": {
      "image/png": "[encoded data removed]",
      "text/plain": [
       "<Figure size 1008x288 with 1 Axes>"
      ]
     },
     "metadata": {},
     "output_type": "display_data"
    }
   ],
   "source": [
    "prediction_plot = np.zeros(len(train)-2)\n",
    "prediction_plot[:] = np.nan\n",
    "prediction_plot[-7:] = denormalized_prediction\n",
    "\n",
    "plt.figure(figsize=(14, 4))\n",
    "plt.plot(train['close'][-30:].values, label='Actual')\n",
    "plt.plot(prediction_plot[-30:], color='#d35400', linestyle='--', label='Predicted')\n",
    "plt.axvline(30 - 7, color='r', linestyle='--', linewidth=1)\n",
    "\n",
    "plt.grid()\n",
    "plt.legend(loc='lower right');"
   ]
  },
  {
   "cell_type": "code",
   "execution_count": 17,
   "metadata": {
    "eid": "8ce0c2"
   },
   "outputs": [],
   "source": [
    "#  TASK:\n",
    "#  Save model to disk\n",
    "#\n",
    "model.save('bitcoin_lstm_v0_trained.h5')"
   ]
  },
  {
   "cell_type": "markdown",
   "metadata": {},
   "source": [
    "In this activity, we have assembled a complete deep learning system: from data to prediction. The model created in this activity need a number of improvements before it can be considered useful. However, it serves as a great starting point from which we will continuously improve."
   ]
  }
 ],
 "metadata": {
  "kernelspec": {
   "display_name": "Python 3",
   "language": "python",
   "name": "python3"
  },
  "language_info": {
   "codemirror_mode": {
    "name": "ipython",
    "version": 3
   },
   "file_extension": ".py",
   "mimetype": "text/x-python",
   "name": "python",
   "nbconvert_exporter": "python",
   "pygments_lexer": "ipython3",
   "version": "3.7.6"
  }
 },
 "nbformat": 4,
 "nbformat_minor": 2
}
